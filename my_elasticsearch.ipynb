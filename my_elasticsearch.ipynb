{
  "cells": [
    {
      "cell_type": "code",
      "execution_count": 1,
      "metadata": {
        "id": "iXuziZSQnESu"
      },
      "outputs": [],
      "source": [
        "%%capture\n",
        "\n",
        "!pip install elasticsearch==7.14.0\n",
        "!apt install default-jdk > /dev/null"
      ]
    },
    {
      "cell_type": "code",
      "execution_count": 2,
      "metadata": {
        "id": "d9UR5drVqaY4"
      },
      "outputs": [],
      "source": [
        "try:\n",
        "  import os\n",
        "  import elasticsearch\n",
        "  from elasticsearch import Elasticsearch\n",
        "  import numpy as np\n",
        "  import pandas as pd\n",
        "  import sys\n",
        "  import json\n",
        "  from ast import literal_eval\n",
        "  from tqdm import tqdm\n",
        "  import datetime\n",
        "  from elasticsearch import helpers\n",
        "\n",
        "except Exception as e:\n",
        "  print(f\"error: {e}\")"
      ]
    },
    {
      "cell_type": "code",
      "execution_count": 3,
      "metadata": {
        "id": "BMll8Drgqdxe"
      },
      "outputs": [],
      "source": [
        "!wget https://artifacts.elastic.co/downloads/elasticsearch/elasticsearch-7.0.0-linux-x86_64.tar.gz -q\n",
        "!tar -xzf elasticsearch-7.0.0-linux-x86_64.tar.gz\n",
        "!chown -R daemon:daemon elasticsearch-7.0.0"
      ]
    },
    {
      "cell_type": "code",
      "execution_count": 4,
      "metadata": {
        "id": "D9fH6om2qhpI"
      },
      "outputs": [],
      "source": [
        "import os\n",
        "from subprocess import Popen, PIPE, STDOUT\n",
        "es_server = Popen(['elasticsearch-7.0.0/bin/elasticsearch'],\n",
        "                  stdout=PIPE, stderr=STDOUT,\n",
        "                  preexec_fn=lambda: os.setuid(1)  # as daemon\n",
        "                 )"
      ]
    },
    {
      "cell_type": "code",
      "execution_count": 5,
      "metadata": {
        "id": "-FAnx_XipmZA"
      },
      "outputs": [],
      "source": [
        "import time\n",
        "time.sleep(20)"
      ]
    },
    {
      "cell_type": "code",
      "execution_count": 6,
      "metadata": {
        "colab": {
          "base_uri": "https://localhost:8080/"
        },
        "id": "k4RaKeDzqnt1",
        "outputId": "8bac87b2-e806-4700-b0c4-5aa3992d7b73"
      },
      "outputs": [
        {
          "name": "stdout",
          "output_type": "stream",
          "text": [
            "daemon       970     462 99 09:46 ?        00:00:25 /content/elasticsearch-7.0.0/jdk/bin/java -Xms1g\n",
            "daemon      1074     970  0 09:46 ?        00:00:00 /content/elasticsearch-7.0.0/modules/x-pack-ml/p\n"
          ]
        }
      ],
      "source": [
        "%%bash\n",
        "# If you get 1 root & 2 daemon process then Elasticsearch instance has started successfully\n",
        "ps -ef | grep elasticsearch"
      ]
    },
    {
      "cell_type": "code",
      "execution_count": 7,
      "metadata": {
        "id": "g8btN6k3poH8"
      },
      "outputs": [],
      "source": [
        "# 1\n",
        "!curl -sX GET \"localhost:9200/\""
      ]
    },
    {
      "cell_type": "code",
      "execution_count": null,
      "metadata": {
        "colab": {
          "base_uri": "https://localhost:8080/"
        },
        "id": "9job2uDYpyyb",
        "outputId": "2683e26b-371c-48aa-f877-56c6f86b2874"
      },
      "outputs": [],
      "source": [
        "es = Elasticsearch(hosts = [{\"host\":\"localhost\", \"port\":9200}])\n",
        "# Check if python is connected to elasticsearch\n",
        "es.ping()"
      ]
    },
    {
      "cell_type": "code",
      "execution_count": 10,
      "metadata": {
        "id": "3581tadZxBwg"
      },
      "outputs": [],
      "source": [
        "# Elasticsearch 인덱스 생성\n",
        "index_name = 'txt_data_index'\n",
        "if not es.indices.exists(index=index_name):\n",
        "    es.indices.create(index=index_name)"
      ]
    },
    {
      "cell_type": "code",
      "execution_count": 11,
      "metadata": {
        "colab": {
          "base_uri": "https://localhost:8080/"
        },
        "id": "-kCHYehWxLdL",
        "outputId": "c48c70b0-d81f-4489-f729-c841903a74b8"
      },
      "outputs": [
        {
          "name": "stdout",
          "output_type": "stream",
          "text": [
            "Mounted at /content/drive\n"
          ]
        }
      ],
      "source": [
        "#구글드라이브 마운트하기\n",
        "from google.colab import drive\n",
        "drive.mount('/content/drive')"
      ]
    },
    {
      "cell_type": "code",
      "execution_count": null,
      "metadata": {
        "colab": {
          "base_uri": "https://localhost:8080/"
        },
        "id": "Ap7CqgPM3OIp",
        "outputId": "6ca20daa-8f64-46f1-e721-64f457a36f21"
      },
      "outputs": [],
      "source": [
        "!pip install sentence-transformers"
      ]
    },
    {
      "cell_type": "code",
      "execution_count": null,
      "metadata": {
        "colab": {
          "base_uri": "https://localhost:8080/"
        },
        "id": "9qbXNmF93aSD",
        "outputId": "2de6b022-e304-4382-9a26-57cd73feaa4a"
      },
      "outputs": [],
      "source": [
        "!pip install langchain unstructured openai chromadb Cython tiktoken pypdf"
      ]
    },
    {
      "cell_type": "code",
      "execution_count": 14,
      "metadata": {
        "id": "JO-j6rYO3CBi"
      },
      "outputs": [],
      "source": [
        "from langchain.text_splitter import CharacterTextSplitter"
      ]
    },
    {
      "cell_type": "code",
      "execution_count": 15,
      "metadata": {
        "colab": {
          "base_uri": "https://localhost:8080/"
        },
        "id": "4GEjwZB40BUo",
        "outputId": "c5283166-4500-43a3-cbd3-d8fc1d347d48"
      },
      "outputs": [
        {
          "name": "stderr",
          "output_type": "stream",
          "text": [
            "WARNING:langchain.text_splitter:Created a chunk of size 362, which is longer than the specified 300\n"
          ]
        }
      ],
      "source": [
        "# 폴더에서 데이터 읽어오기\n",
        "folder_path = \"/content/drive/My Drive/Colab Notebooks/data/school_text\"\n",
        "\n",
        "# 폴더 내의 모든 파일 목록 가져오기\n",
        "file_list = os.listdir(folder_path)\n",
        "\n",
        "# text_splitter 초기화\n",
        "text_splitter = CharacterTextSplitter(chunk_size=300, chunk_overlap=50)\n",
        "\n",
        "# 각 텍스트 파일을 읽어와서 Elasticsearch에 색인화\n",
        "for i, file_name in enumerate(file_list):\n",
        "    file_path = os.path.join(folder_path, file_name)\n",
        "    with open(file_path, 'r', encoding='utf-8') as file:\n",
        "        data = file.read()\n",
        "\n",
        "    # text_splitter를 사용하여 텍스트 분리\n",
        "    chunks = text_splitter.split_text(data)\n",
        "\n",
        "    # 데이터를 Elasticsearch에 색인화\n",
        "    for j, chunk in enumerate(chunks):\n",
        "        document = {\n",
        "            'text': chunk.strip(),  # 각 줄의 텍스트를 'text' 필드에 저장\n",
        "            'file_name': file_name  # 파일 이름도 저장 (옵션)\n",
        "        }\n",
        "        es.index(index=index_name, doc_type='_doc', id=i * len(file_list) + j + 1, body=document)\n"
      ]
    },
    {
      "cell_type": "code",
      "execution_count": 16,
      "metadata": {
        "id": "vPzySct0v69N"
      },
      "outputs": [],
      "source": [
        "# 색인화가 완료되었다면 몇 초 기다려서 Elasticsearch에 적용되도록 합시다.\n",
        "import time\n",
        "time.sleep(5)"
      ]
    },
    {
      "cell_type": "code",
      "execution_count": 81,
      "metadata": {
        "id": "qSST7gfutxVZ"
      },
      "outputs": [],
      "source": [
        "# 특정 쿼리로 검색하기\n",
        "search_query = '장학생 선발 절차는?' # 여기 입력\n",
        "search_body = {\n",
        "    'query': {\n",
        "        'match': {\n",
        "            'text': search_query\n",
        "        }\n",
        "    },\n",
        "    'size': 5 # 최대 5개의 문서만 반환(토큰 4000제한 때문에)\n",
        "}"
      ]
    },
    {
      "cell_type": "code",
      "execution_count": 82,
      "metadata": {
        "id": "_ZVct_iXtuEb"
      },
      "outputs": [],
      "source": [
        "# 검색 실행\n",
        "results = es.search(index=index_name, body=search_body)"
      ]
    },
    {
      "cell_type": "code",
      "execution_count": 83,
      "metadata": {
        "colab": {
          "base_uri": "https://localhost:8080/"
        },
        "id": "Sskn5iARv410",
        "outputId": "1361fb9a-3536-44d9-a72b-a68348aa8f80"
      },
      "outputs": [
        {
          "name": "stdout",
          "output_type": "stream",
          "text": [
            "검색어 '장학생 선발 절차는?'에 대한 검색 결과:\n",
            "나. 장학생 선정 대상자는 직전학기에 15학점이상 이수하여야 한다.(직전학기 성적에 계절학기 및 국내․외 타대학교류 학점인정 성적은 포함하지 않는다) 다만, 다음의 경우에는 예외로 한다.\n",
            "\n",
            "      * 직전학기가 4학년 1학기인 경우는 8학점(건축학은 5학년 1학기) 이상\n",
            "\n",
            "  다. 공인외국어시험성적은 [별표 1] “공인외국어시험 점수 환산표”의 토익 최저점수(300점)까지만 인정한다.\n",
            "\n",
            "3. 장학생 선발\n",
            "\n",
            "  가. 외국어성적우수장학생은 학기별 50명 내외로 공인외국어성적이 우수한 순으로 선발한다.\n",
            "등록금 20%\n",
            "\n",
            " 직전 2개 학기 성적이 평점평균 3.0 이상  \n",
            "\n",
            "금오, 우등과 동일\n",
            "\n",
            "※ (공통기준) 이수학점 : 직전학기 15학점 이상[단, 직전학기가 4학년(건축학전공은 5학년)인 경우  8학점 이상]\n",
            "\n",
            "※ 위 기준은 기본자격기준이며, \n",
            "\n",
            "   금오, 우등은 기준 충족자 중 학부(과)에서 장학생 추천 → 최종 선발\n",
            "\n",
            "   성적오름은 상승편차가 큰 자 중 최종 선발\n",
            "\n",
            "▼\n",
            "\n",
            "\u000b氠瑢\u0000\u0000\u0000\u0000\u000b\n",
            "\n",
            "“학생” 외국어성적 등록 및 승인요청\n",
            "5. 제출점수 입력방법 : ‘원스톱서비스-학생지원-교내장학금-외국어성적우수 제출점수입력’ 메뉴에서 기간내 접수, 승인된 공인외국어성적을 선택하여 저장\n",
            "\n",
            "   ※ 제출점수 입력방법에 관한 자세한 사항은 별도 붙임파일을 꼭 확인하신 후 입력바람\n",
            "\n",
            "6. 장학생 선발 방법\n",
            "\n",
            "  가. 다음과 같은 평가 점수가 우수한자 순\n",
            "\n",
            "      평가 점수 = 100×(제출점수-기준점수)/(1100-제출점수)+(제출점수-기준점수)/5\n",
            "\n",
            "  나. 학부 및 전공과 무관하게 평가점수 우수자 순으로 선발\n",
            "\u0002捤獥\u0000\u0000\u0000\u0000\u0002\u0002汤捯\u0000\u0000\u0000\u0000\u0002\u0015湰灧\u0000\u0000\u0000\u0000\u0015외국어성적우수장학금 지급 기준\n",
            "\n",
            "1. 자격기준\n",
            "\n",
            "   \u000b氠瑢\u0000\u0000\u0000\u0000\u000b\n",
            "\n",
            "장학금종류\n",
            "\n",
            "대상 및 자격기준\n",
            "\n",
            "제출서류\n",
            "\n",
            "장학금액\n",
            "\n",
            "외국어성적\n",
            "\n",
            "우수장학금\n",
            "\n",
            "◦공인외국어성적이 600점(토익기준) 이상인 자\n",
            "\n",
            "◦직전학기 성적이 평점평균 2.6이상\n",
            "\n",
            "공인\n",
            "\n",
            "외국어시험 성적표\n",
            "\n",
            "40만원\n",
            "\n",
            "2. 자격요건\n",
            "\n",
            "  가. 장학생 선정 대상자는 8학기(건축학은 10학기, 편입학생은 4학기) 이하의 재학중인 자로 한다.\n",
            "ZD\n",
            "\n",
            "DELF\n",
            "\n",
            "TCF\n",
            "\n",
            "FLEX\n",
            "\n",
            "\u000b氠瑢\u0000\u0000\u0000\u0000\u000b\n",
            "\n",
            "필   독   사   항\n",
            "\n",
            "1. 교내 성적장학생은 외국어성적을 취득하여야 합니다. 외국어시험성적(토익기준)을 제출하지 않을 경우 성적장학생 선발에서 제외됩니다.\n",
            "\n",
            "   (참고) 교내성적에 계절학기, 국내외 타대학교류 학점인정 성적은 포함하지 않음\n",
            "\n",
            "2. 2023-2학기 장학생 선발관련 외국어시험성적 적용기준(응시일기준)\n",
            "\n",
            "  - 2022. 6. 1. ~ 2023. 5. 31.내에 외국어성적을 취득하여야 함(응시일기준)\n"
          ]
        }
      ],
      "source": [
        "# 결과 출력\n",
        "print(f\"검색어 '{search_query}'에 대한 검색 결과:\")\n",
        "for hit in results['hits']['hits']:\n",
        "    print(hit['_source']['text'])\n",
        "\n",
        "# top_hit = results['hits']['hits'][0]['_source']['text']\n",
        "# print(top_hit)"
      ]
    },
    {
      "cell_type": "markdown",
      "metadata": {
        "id": "N7N8eMQgLud7"
      },
      "source": [
        "#gpt 연결"
      ]
    },
    {
      "cell_type": "code",
      "execution_count": null,
      "metadata": {
        "colab": {
          "base_uri": "https://localhost:8080/"
        },
        "id": "DRsCkQT8WWiQ",
        "outputId": "e36c3fa2-961b-4ac1-810b-f462dcdc34a7"
      },
      "outputs": [],
      "source": [
        "!pip install --upgrade pip"
      ]
    },
    {
      "cell_type": "code",
      "execution_count": null,
      "metadata": {
        "colab": {
          "base_uri": "https://localhost:8080/"
        },
        "id": "ZiVfeBh-WYh4",
        "outputId": "1cca6aab-c09f-4165-dacb-ec9e22942901"
      },
      "outputs": [],
      "source": [
        "!pip install --upgrade llmx"
      ]
    },
    {
      "cell_type": "code",
      "execution_count": null,
      "metadata": {
        "colab": {
          "base_uri": "https://localhost:8080/"
        },
        "id": "eO6u1E19Wbdu",
        "outputId": "5cf9a95c-9e34-4fa0-84be-24fa82ef9b48"
      },
      "outputs": [],
      "source": [
        "!pip install cohere"
      ]
    },
    {
      "cell_type": "code",
      "execution_count": null,
      "metadata": {
        "colab": {
          "base_uri": "https://localhost:8080/"
        },
        "id": "nCIudU0dWeA5",
        "outputId": "76286fec-eeee-46ba-d5e5-46ac0992e3bf"
      },
      "outputs": [],
      "source": [
        "!pip install llmx==0.0.15a0 cohere==<버전>"
      ]
    },
    {
      "cell_type": "code",
      "execution_count": null,
      "metadata": {
        "colab": {
          "base_uri": "https://localhost:8080/"
        },
        "id": "sFtGy9i8Nzmr",
        "outputId": "54e19a12-2396-4e5e-866b-c9ba243096c8"
      },
      "outputs": [],
      "source": [
        "!pip install openai==0.28"
      ]
    },
    {
      "cell_type": "code",
      "execution_count": 48,
      "metadata": {
        "id": "YbKxvRUAN3TA"
      },
      "outputs": [],
      "source": [
        "import openai\n",
        "\n",
        "openai.api_key = '<Your_OpenAI_APIkey>'"
      ]
    },
    {
      "cell_type": "code",
      "execution_count": 59,
      "metadata": {
        "id": "hiXewHu3PG9j"
      },
      "outputs": [],
      "source": [
        "# GPT를 사용하여 쿼리를 생성하는 함수\n",
        "def generate_query(prompt):\n",
        "    response = openai.Completion.create(\n",
        "        engine=\"text-davinci-003\",\n",
        "        prompt=prompt,\n",
        "        max_tokens=500 \n",
        "    )\n",
        "    return response.choices[0].text.strip()"
      ]
    },
    {
      "cell_type": "code",
      "execution_count": 85,
      "metadata": {
        "colab": {
          "base_uri": "https://localhost:8080/"
        },
        "id": "5JS7CmnDdOPi",
        "outputId": "c0f8bcbb-ac41-438a-e2b3-7fcf65c3fb6f"
      },
      "outputs": [
        {
          "name": "stdout",
          "output_type": "stream",
          "text": [
            "GPT로 생성된 답변: 장학생 선발 절차는 다음과 같다. \n",
            "1. 자격기준 및 지원 자격: 공인외국어성적, 직전학기 성적, 기본자격 등\n",
            "2. 제출서류 제출: 공인외국어시험 성적증명서, 직전학기 성적증명서 등\n",
            "3. 등록금 및 장학금 지급: 등록금 20% 지원 및 장학금 우수자 선발\n",
            "4. 장학생 선발: 기준 충족자 중 학부(과)에서 장학생 추천 → 최종 선발\n"
          ]
        }
      ],
      "source": [
        "# 결과가 있을 경우 결과를 GPT에 입력하여 응답 생성\n",
        "if results.get('hits', {}).get('total', {}).get('value', 0) != 0:\n",
        "    # 개행 문자 제거 후 최대 길이까지 자르기\n",
        "    formatted_texts = [hit['_source']['text'].replace('\\n', ', ') for hit in results['hits']['hits']]\n",
        "    summary_prompt = '\\n'.join(formatted_texts)\n",
        "\n",
        "    # 리스트를 문자열로 조합\n",
        "    formatted_result = ' '.join(formatted_texts)\n",
        "    # GPT를 사용하여 쿼리를 생성합니다\n",
        "    gpt_summary_query = generate_query(f\"{summary_prompt} 중에서 '{search_query}'에 대한 답을 찾아줘.\")\n",
        "\n",
        "    # GPT로 생성된 요약 출력\n",
        "    print(\"GPT로 생성된 답변:\", gpt_summary_query)\n",
        "else:\n",
        "    print(f\"검색어 '{search_query}'에 대한 검색 결과가 없습니다.\")"
      ]
    },
    {
      "cell_type": "markdown",
      "metadata": {
        "id": "CEA8OKjyEblq"
      },
      "source": [
        "#스냅샷 생성(임시)"
      ]
    },
    {
      "cell_type": "code",
      "execution_count": null,
      "metadata": {
        "id": "JtlK32jwEa0R"
      },
      "outputs": [],
      "source": [
        "from elasticsearch import Elasticsearch\n",
        "\n",
        "# Elasticsearch 연결 설정\n",
        "es = Elasticsearch([{'host': 'localhost', 'port': 9200}])\n",
        "\n",
        "# 백업할 인덱스 이름과 스냅샷 이름 정의\n",
        "index_name = 'your_index_name'\n",
        "snapshot_name = 'snapshot_1'\n",
        "\n",
        "# 스냅샷 생성\n",
        "def create_snapshot(index, snapshot_name):\n",
        "    es.snapshot.create_repository(repository='my_backup', body={'type': 'fs', 'settings': {'location': '/path/to/your/snapshot/directory'}})\n",
        "    es.snapshot.create(repository='my_backup', snapshot=snapshot_name, body={'indices': index})\n",
        "\n",
        "# 스냅샷 복원\n",
        "def restore_snapshot(snapshot_name, index):\n",
        "    es.indices.close(index=index)\n",
        "    es.indices.clear_cache(index=index)\n",
        "    es.snapshot.restore(repository='my_backup', snapshot=snapshot_name, body={'indices': index})\n",
        "    es.indices.open(index=index)\n",
        "\n",
        "# 스냅샷 생성\n",
        "create_snapshot(index_name, snapshot_name)\n",
        "\n",
        "# 스냅샷 복원 (예: 다른 인덱스로 복원)\n",
        "restored_index_name = 'restored_index'\n",
        "restore_snapshot(snapshot_name, restored_index_name)\n"
      ]
    },
    {
      "cell_type": "markdown",
      "metadata": {
        "id": "Np6XhSsLEd-h"
      },
      "source": [
        "#스냅샷 복원(임시)\n",
        "\n",
        "일반적으로 Elasticsearch 스냅샷은 로컬 파일 시스템이나 원격 파일 시스템에 저장됩니다. 스냅샷 저장 위치는 Elasticsearch 설정 파일 (elasticsearch.yml)에서 지정하게 됩니다."
      ]
    },
    {
      "cell_type": "code",
      "execution_count": null,
      "metadata": {
        "id": "Z-tDTV3iEfHM"
      },
      "outputs": [],
      "source": [
        "from elasticsearch import Elasticsearch\n",
        "\n",
        "# Elasticsearch 연결 설정\n",
        "es = Elasticsearch([{'host': 'localhost', 'port': 9200}])\n",
        "\n",
        "# 복원할 인덱스 이름 정의\n",
        "restored_index_name = 'restored_index'\n",
        "\n",
        "# 스냅샷 복원\n",
        "def restore_snapshot(snapshot_name, index):\n",
        "    es.indices.close(index=index)\n",
        "    es.indices.clear_cache(index=index)\n",
        "    es.snapshot.restore(repository='my_backup', snapshot=snapshot_name, body={'indices': index})\n",
        "    es.indices.open(index=index)\n",
        "\n",
        "# 스냅샷 복원\n",
        "restore_snapshot('snapshot_1', restored_index_name)\n",
        "\n",
        "# 복원된 인덱스에 대해 쿼리 수행\n",
        "search_query = 'your_search_query'\n",
        "search_body = {\n",
        "    'query': {\n",
        "        'match': {\n",
        "            'text': search_query\n",
        "        }\n",
        "    }\n",
        "}\n",
        "\n",
        "# 쿼리 실행\n",
        "results = es.search(index=restored_index_name, body=search_body)\n",
        "\n",
        "# 결과 출력\n",
        "print(f\"검색어 '{search_query}'에 대한 검색 결과:\")\n",
        "for hit in results['hits']['hits']:\n",
        "    print(f\"파일: {hit['_source']['file_name']}, 텍스트: {hit['_source']['text']}\")\n"
      ]
    },
    {
      "cell_type": "markdown",
      "metadata": {
        "id": "MdZniNGbE32U"
      },
      "source": [
        "#서버에서(임시)\n",
        "\n",
        "Elasticsearch 서버 시작:\n",
        "Elasticsearch 서버를 시작하여 새로운 설정이 적용되도록 합니다.\n",
        "\n",
        "Linux에서는 다음과 같이 실행합니다:\n",
        "\n",
        "bash\n",
        "Copy code\n",
        "sudo service elasticsearch start\n",
        "Windows에서는 Elasticsearch가 설치된 디렉토리에서 bin/elasticsearch.bat 파일을 실행합니다.\n",
        "\n",
        "로그 확인:\n",
        "Elasticsearch 서버를 시작한 후 로그를 확인하여 어떤 오류도 없는지 확인하세요. 로그는 주로 {Elasticsearch 설치 디렉토리}/logs에 있습니다.\n",
        "\n",
        "참고: Elasticsearch의 설정은 다양한 측면에서 수정될 수 있으며, 각 설정의 역할에 대해 이해하는 것이 중요합니다. 변경 사항이 Elasticsearch 클러스터에 영향을 미칠 수 있으므로 주의 깊게 수정해야 합니다. 또한, Elasticsearch의 버전에 따라 설정 항목이 다를 수 있으므로 해당 버전의 공식 문서를 참고하는 것이 좋습니다."
      ]
    }
  ],
  "metadata": {
    "colab": {
      "provenance": []
    },
    "kernelspec": {
      "display_name": "Python 3",
      "name": "python3"
    },
    "language_info": {
      "name": "python"
    }
  },
  "nbformat": 4,
  "nbformat_minor": 0
}
